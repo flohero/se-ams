{
 "cells": [
  {
   "cell_type": "code",
   "execution_count": 24,
   "metadata": {
    "collapsed": true,
    "pycharm": {
     "name": "#%%\n"
    }
   },
   "outputs": [
    {
     "name": "stdout",
     "output_type": "stream",
     "text": [
      "{'a': 'b', 'c': 'a', 'd': 'a'}\n"
     ]
    },
    {
     "data": {
      "text/plain": "<Figure size 432x288 with 1 Axes>",
      "image/png": "[encoded data removed]"
     },
     "metadata": {},
     "output_type": "display_data"
    }
   ],
   "source": [
    "import networkx as nx\n",
    "import heapq\n",
    "\n",
    "G = nx.Graph()\n",
    "G.add_edge(\"a\", \"b\", weight=0.6)\n",
    "G.add_edge(\"a\", \"c\", weight=0.2)\n",
    "G.add_edge(\"c\", \"d\", weight=0.1)\n",
    "G.add_edge(\"c\", \"e\", weight=0.7)\n",
    "G.add_edge(\"c\", \"f\", weight=0.9)\n",
    "G.add_edge(\"a\", \"d\", weight=8)\n",
    "\n",
    "nx.draw(G, with_labels=True)\n",
    "\n",
    "\n",
    "def Dijkstra(G, start, target):\n",
    "    F = set()\n",
    "    dist = {v: float(\"Inf\") for v in G}\n",
    "    dist[start] = 0\n",
    "    prev = {}\n",
    "    unvisited = [(dist[n], n) for n in G]\n",
    "    heapq.heapify(unvisited)\n",
    "    while len(unvisited):\n",
    "        current = heapq.heappop(unvisited)[1]\n",
    "        F.add(current)\n",
    "        for n in G[current]:\n",
    "            if n in F:\n",
    "                continue\n",
    "            new_dist = dist[current] + G[current][n]['weight']\n",
    "            if new_dist > dist[n]:\n",
    "                continue\n",
    "            dist[n] = new_dist\n",
    "            prev[n] = current\n",
    "        if current == target:\n",
    "            return prev\n",
    "        unvisited = [(dist[v], v) for v in G if not v in F]\n",
    "        heapq.heapify(unvisited)\n",
    "    return prev\n",
    "\n",
    "\n",
    "print(Dijkstra(G, 'b', 'a'))\n",
    "\n",
    "def GetPath(prev, target):\n",
    "    path = [target]\n",
    "    current = target\n",
    "    while current in prev:\n",
    "        current = prev[current]\n",
    "        path.append(current)\n",
    "    return path"
   ]
  }
 ],
 "metadata": {
  "kernelspec": {
   "display_name": "Python 3",
   "language": "python",
   "name": "python3"
  },
  "language_info": {
   "codemirror_mode": {
    "name": "ipython",
    "version": 2
   },
   "file_extension": ".py",
   "mimetype": "text/x-python",
   "name": "python",
   "nbconvert_exporter": "python",
   "pygments_lexer": "ipython2",
   "version": "2.7.6"
  }
 },
 "nbformat": 4,
 "nbformat_minor": 0
}