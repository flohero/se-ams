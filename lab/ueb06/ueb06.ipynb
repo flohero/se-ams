{
 "cells": [
  {
   "cell_type": "code",
   "execution_count": 14,
   "metadata": {
    "pycharm": {
     "name": "#%%\n"
    }
   },
   "outputs": [
    {
     "name": "stdout",
     "output_type": "stream",
     "text": [
      "[[0.05  0.425 0.05  0.2   0.8  ]\n",
      " [0.3   0.05  0.8   0.2   0.05 ]\n",
      " [0.3   0.425 0.05  0.2   0.05 ]\n",
      " [0.3   0.05  0.05  0.2   0.05 ]\n",
      " [0.05  0.05  0.05  0.2   0.05 ]]\n",
      "1 :  [0.2 0.2 0.2 0.2 0.2]\n",
      "2 :  [0.305 0.28  0.205 0.13  0.08 ]\n",
      "3 :  [0.2345  0.2995  0.25075 0.14575 0.0695 ]\n",
      "4 :  [0.2363    0.31855   0.2428    0.1304875 0.0718625]\n",
      "5 :  [0.24292625 0.31074813 0.24810438 0.12864813 0.06957313]\n",
      "6 :  [0.23800761 0.31610706 0.24655933 0.13002878 0.06929722]\n",
      "7 :  [0.24001738 0.31392572 0.24754637 0.12900622 0.06950432]\n",
      "8 :  [0.23920131 0.31501505 0.24707742 0.12935528 0.06935093]\n",
      "9 :  [0.23954714 0.31451169 0.24733427 0.12920362 0.06940329]\n",
      "[0.23937489 0.31476803 0.24720921 0.12926733 0.06938054]\n"
     ]
    }
   ],
   "source": [
    "import networkx as nx\n",
    "import numpy as np\n",
    "\n",
    "\n",
    "def BuildM(G, dampening):\n",
    "    n = G.order()\n",
    "    M = np.zeros(shape=(n, n))\n",
    "    w0 = 1 / n\n",
    "    nodes = np.array(G.nodes())\n",
    "    w1 = (1 - dampening) / n\n",
    "    for i in range(0, n):\n",
    "        v = nodes[i]\n",
    "        deg = G.out_degree(v)\n",
    "        if deg == 0:\n",
    "            for j in range(0, n):\n",
    "                M[j, i] = dampening * w0 + w1\n",
    "            continue\n",
    "        for j in range(0, n):\n",
    "            u = nodes[j]\n",
    "            M[j, i] = (1 / deg * dampening + w1) if (u in G[v]) else w1\n",
    "    return M, nodes\n",
    "\n",
    "\n",
    "def PageRank(M, tol=0.001):\n",
    "    n = M.shape[0]\n",
    "    Rprev = np.ones(n)\n",
    "    R = Rprev * (1 / n)\n",
    "    i = 0\n",
    "    while sum(abs(Rprev - R)) > tol:\n",
    "        i += 1\n",
    "        print(i, \": \", R)\n",
    "        Rprev = R\n",
    "        R = M @ np.transpose(R)\n",
    "        R = R / sum(R)\n",
    "    return R\n",
    "\n",
    "\n",
    "#testing\n",
    "\n",
    "G = nx.DiGraph()\n",
    "G.add_edge(1, 2)\n",
    "G.add_edge(1, 3)\n",
    "G.add_edge(1, 4)\n",
    "G.add_edge(2, 1)\n",
    "G.add_edge(2, 3)\n",
    "G.add_edge(3, 2)\n",
    "G.add_edge(5, 1)\n",
    "\n",
    "m, n = BuildM(G, 0.75)\n",
    "print(m)\n",
    "r = PageRank(m)\n",
    "print(r)"
   ]
  },
  {
   "cell_type": "code",
   "execution_count": 17,
   "metadata": {},
   "outputs": [
    {
     "name": "stdout",
     "output_type": "stream",
     "text": [
      "{'a': 0.5666666666666667, 'f': 0.26666666666666666, 'g': 0.2, 'b': 0.18333333333333332, 'c': 0.18333333333333332, 'd': 0.1, 'e': 0.1}\n"
     ]
    }
   ],
   "source": [
    "import networkx as nx\n",
    "import numpy as np\n",
    "\n",
    "G = nx.DiGraph()\n",
    "G.add_edge(\"a\", \"f\")\n",
    "G.add_edge(\"a\", \"g\")\n",
    "G.add_edge(\"b\", \"a\")\n",
    "G.add_edge(\"c\", \"a\")\n",
    "G.add_edge(\"d\", \"b\")\n",
    "G.add_edge(\"d\", \"c\")\n",
    "G.add_edge(\"e\", \"b\")\n",
    "G.add_edge(\"e\", \"d\")\n",
    "G.add_edge(\"f\", \"c\")\n",
    "G.add_edge(\"f\", \"d\")\n",
    "G.add_edge(\"g\", \"e\")\n",
    "G.add_edge(\"g\", \"f\")\n",
    "\n",
    "print(nx.betweenness_centrality(G))\n"
   ]
  },
  {
   "cell_type": "code",
   "execution_count": 19,
   "metadata": {},
   "outputs": [
    {
     "name": "stdout",
     "output_type": "stream",
     "text": [
      "(9, {'q': {'a': 6, 'b': 3}, 'a': {'b': 0, 'c': 4, 'd': 2}, 'b': {'d': 3}, 'c': {'b': 0, 'd': 1, 's': 3}, 'd': {'s': 6}, 's': {}})\n"
     ]
    }
   ],
   "source": [
    "import networkx as nx\n",
    "\n",
    "G = nx.DiGraph()\n",
    "G.add_edge(\"q\", \"a\", capacity = 12)\n",
    "G.add_edge(\"q\", \"b\", capacity = 4)\n",
    "\n",
    "G.add_edge(\"a\", \"b\", capacity = 2)\n",
    "G.add_edge(\"a\", \"c\", capacity = 4)\n",
    "G.add_edge(\"a\", \"d\", capacity = 2)\n",
    "\n",
    "G.add_edge(\"b\", \"d\", capacity = 3)\n",
    "\n",
    "G.add_edge(\"c\", \"b\", capacity = 5)\n",
    "G.add_edge(\"c\", \"d\", capacity = 1)\n",
    "G.add_edge(\"c\", \"s\", capacity = 3)\n",
    "\n",
    "G.add_edge(\"d\", \"s\", capacity = 10)\n",
    "\n",
    "print(nx.algorithms.flow.maximum_flow(G, \"q\", \"s\", ))\n",
    "\n"
   ]
  },
  {
   "cell_type": "code",
   "execution_count": null,
   "metadata": {},
   "outputs": [],
   "source": []
  }
 ],
 "metadata": {
  "kernelspec": {
   "display_name": "Python 3",
   "language": "python",
   "name": "python3"
  },
  "language_info": {
   "codemirror_mode": {
    "name": "ipython",
    "version": 3
   },
   "file_extension": ".py",
   "mimetype": "text/x-python",
   "name": "python",
   "nbconvert_exporter": "python",
   "pygments_lexer": "ipython3",
   "version": "3.8.5"
  }
 },
 "nbformat": 4,
 "nbformat_minor": 1
}