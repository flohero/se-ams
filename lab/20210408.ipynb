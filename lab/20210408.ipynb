{
 "cells": [
  {
   "cell_type": "code",
   "execution_count": 18,
   "metadata": {
    "collapsed": true
   },
   "outputs": [
    {
     "ename": "TypeError",
     "evalue": "'int' object is not subscriptable",
     "output_type": "error",
     "traceback": [
      "\u001B[0;31m---------------------------------------------------------------------------\u001B[0m",
      "\u001B[0;31mTypeError\u001B[0m                                 Traceback (most recent call last)",
      "\u001B[0;32m<ipython-input-18-958df05b4560>\u001B[0m in \u001B[0;36m<module>\u001B[0;34m\u001B[0m\n\u001B[1;32m     33\u001B[0m \u001B[0;34m\u001B[0m\u001B[0m\n\u001B[1;32m     34\u001B[0m \u001B[0;34m\u001B[0m\u001B[0m\n\u001B[0;32m---> 35\u001B[0;31m \u001B[0mDepthFirstSearch_rec_nodes\u001B[0m\u001B[0;34m(\u001B[0m\u001B[0mG\u001B[0m\u001B[0;34m,\u001B[0m \u001B[0;36m1\u001B[0m\u001B[0;34m,\u001B[0m \u001B[0;34m[\u001B[0m\u001B[0;34m]\u001B[0m\u001B[0;34m,\u001B[0m \u001B[0mIsBipartiteStepAction\u001B[0m\u001B[0;34m)\u001B[0m\u001B[0;34m\u001B[0m\u001B[0;34m\u001B[0m\u001B[0m\n\u001B[0m",
      "\u001B[0;32m<ipython-input-18-958df05b4560>\u001B[0m in \u001B[0;36mDepthFirstSearch_rec_nodes\u001B[0;34m(G, current, seen, action)\u001B[0m\n\u001B[1;32m     13\u001B[0m \u001B[0;32mdef\u001B[0m \u001B[0mDepthFirstSearch_rec_nodes\u001B[0m\u001B[0;34m(\u001B[0m\u001B[0mG\u001B[0m\u001B[0;34m,\u001B[0m \u001B[0mcurrent\u001B[0m\u001B[0;34m,\u001B[0m \u001B[0mseen\u001B[0m\u001B[0;34m,\u001B[0m \u001B[0maction\u001B[0m\u001B[0;34m)\u001B[0m\u001B[0;34m:\u001B[0m\u001B[0;34m\u001B[0m\u001B[0;34m\u001B[0m\u001B[0m\n\u001B[1;32m     14\u001B[0m     \u001B[0;32mif\u001B[0m \u001B[0mcurrent\u001B[0m \u001B[0;32min\u001B[0m \u001B[0mseen\u001B[0m\u001B[0;34m:\u001B[0m \u001B[0;32mreturn\u001B[0m\u001B[0;34m\u001B[0m\u001B[0;34m\u001B[0m\u001B[0m\n\u001B[0;32m---> 15\u001B[0;31m     \u001B[0maction\u001B[0m\u001B[0;34m(\u001B[0m\u001B[0mcurrent\u001B[0m\u001B[0;34m,\u001B[0m\u001B[0mseen\u001B[0m\u001B[0;34m,\u001B[0m \u001B[0mseen\u001B[0m\u001B[0;34m)\u001B[0m\u001B[0;34m\u001B[0m\u001B[0;34m\u001B[0m\u001B[0m\n\u001B[0m\u001B[1;32m     16\u001B[0m     \u001B[0mseen\u001B[0m\u001B[0;34m.\u001B[0m\u001B[0mappend\u001B[0m\u001B[0;34m(\u001B[0m\u001B[0mcurrent\u001B[0m\u001B[0;34m)\u001B[0m\u001B[0;34m\u001B[0m\u001B[0;34m\u001B[0m\u001B[0m\n\u001B[1;32m     17\u001B[0m     \u001B[0;32mfor\u001B[0m \u001B[0mn\u001B[0m \u001B[0;32min\u001B[0m \u001B[0mG\u001B[0m\u001B[0;34m[\u001B[0m\u001B[0mcurrent\u001B[0m\u001B[0;34m]\u001B[0m\u001B[0;34m:\u001B[0m\u001B[0;34m\u001B[0m\u001B[0;34m\u001B[0m\u001B[0m\n",
      "\u001B[0;32m<ipython-input-18-958df05b4560>\u001B[0m in \u001B[0;36mIsBipartiteStepAction\u001B[0;34m(G, current, seen)\u001B[0m\n\u001B[1;32m     20\u001B[0m \u001B[0;32mdef\u001B[0m \u001B[0mIsBipartiteStepAction\u001B[0m\u001B[0;34m(\u001B[0m\u001B[0mG\u001B[0m\u001B[0;34m:\u001B[0m \u001B[0mnx\u001B[0m\u001B[0;34m.\u001B[0m\u001B[0mGraph\u001B[0m\u001B[0;34m,\u001B[0m \u001B[0mcurrent\u001B[0m\u001B[0;34m,\u001B[0m \u001B[0mseen\u001B[0m\u001B[0;34m:\u001B[0m \u001B[0mlist\u001B[0m\u001B[0;34m)\u001B[0m\u001B[0;34m:\u001B[0m\u001B[0;34m\u001B[0m\u001B[0;34m\u001B[0m\u001B[0m\n\u001B[1;32m     21\u001B[0m     ncolors = {colors2Nodes[n]\n\u001B[0;32m---> 22\u001B[0;31m                \u001B[0;32mfor\u001B[0m \u001B[0mn\u001B[0m \u001B[0;32min\u001B[0m \u001B[0mG\u001B[0m\u001B[0;34m[\u001B[0m\u001B[0mcurrent\u001B[0m\u001B[0;34m]\u001B[0m\u001B[0;34m\u001B[0m\u001B[0;34m\u001B[0m\u001B[0m\n\u001B[0m\u001B[1;32m     23\u001B[0m                if n in colors2Nodes}\n\u001B[1;32m     24\u001B[0m     \u001B[0;32mif\u001B[0m \u001B[0mlen\u001B[0m\u001B[0;34m(\u001B[0m\u001B[0mncolors\u001B[0m\u001B[0;34m)\u001B[0m \u001B[0;34m>\u001B[0m \u001B[0;36m1\u001B[0m\u001B[0;34m:\u001B[0m\u001B[0;34m\u001B[0m\u001B[0;34m\u001B[0m\u001B[0m\n",
      "\u001B[0;31mTypeError\u001B[0m: 'int' object is not subscriptable"
     ]
    }
   ],
   "source": [
    "import networkx as nx\n",
    "import matplotlib.pyplot as plt\n",
    "\n",
    "color = [\"red\", \"black\"]\n",
    "colorChange = {\"red\": \"black\", \"black\": \"red\"}\n",
    "\n",
    "colors2Nodes = {}\n",
    "\n",
    "G = nx.Graph([(1,2), (3, 2)])\n",
    "\n",
    "isbipartite = True\n",
    "\n",
    "def DepthFirstSearch_rec_nodes(G, current, seen, action):\n",
    "    if current in seen: return\n",
    "    action(current,seen, seen)\n",
    "    seen.append(current)\n",
    "    for n in G[current]:\n",
    "        DepthFirstSearch_rec_nodes(G, n, seen, action)\n",
    "\n",
    "def IsBipartiteStepAction(G: nx.Graph, current, seen: list):\n",
    "    ncolors = {colors2Nodes[n]\n",
    "               for n in G[current]\n",
    "               if n in colors2Nodes}\n",
    "    if len(ncolors) > 1:\n",
    "        global isbipartite\n",
    "        isbipartite = False\n",
    "        return False\n",
    "    if len(ncolors) == 1:\n",
    "        colors2Nodes[current] = color[0]\n",
    "    else:\n",
    "        colors2Nodes[current] = colorChange[next(iter(ncolors))]\n",
    "    return True\n",
    "\n",
    "\n",
    "DepthFirstSearch_rec_nodes(G, 1, [], IsBipartiteStepAction)"
   ]
  }
 ],
 "metadata": {
  "kernelspec": {
   "display_name": "Python 3",
   "language": "python",
   "name": "python3"
  },
  "language_info": {
   "codemirror_mode": {
    "name": "ipython",
    "version": 2
   },
   "file_extension": ".py",
   "mimetype": "text/x-python",
   "name": "python",
   "nbconvert_exporter": "python",
   "pygments_lexer": "ipython2",
   "version": "2.7.6"
  }
 },
 "nbformat": 4,
 "nbformat_minor": 0
}